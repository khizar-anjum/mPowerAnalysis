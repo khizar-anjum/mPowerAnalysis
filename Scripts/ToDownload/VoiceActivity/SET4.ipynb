{
 "cells": [
  {
   "cell_type": "code",
   "execution_count": 1,
   "metadata": {},
   "outputs": [],
   "source": [
    "import synapseclient\n",
    "import numpy as np\n",
    "import sys\n",
    "import shutil"
   ]
  },
  {
   "cell_type": "code",
   "execution_count": 3,
   "metadata": {},
   "outputs": [
    {
     "name": "stdout",
     "output_type": "stream",
     "text": [
      "Downloading 13000 files, 0 cached locally\n"
     ]
    }
   ],
   "source": [
    "#%% FASTER DOWNLOAD METHOD!\n",
    "voice_table = 'syn5511444';\n",
    "columns = ['audio_audio.m4a','audio_countdown.m4a'];\n",
    "folder = ['\\\\Audio','\\\\Countdown'];\n",
    "i = 0;\n",
    "results = syn.tableQuery('SELECT * FROM syn5511444 LIMIT 13000 OFFSET 39000')\n",
    "file_map = syn.downloadTableColumns(results, columns[i])\n",
    "for file_handle_id, path in file_map.items():\n",
    "    shutil.move(path,'D:\\\\Projects\\\\Parkinson Diagnosis\\\\mPower\\\\Voice Data' + folder[i] + '\\\\'+\\\n",
    "            str(file_handle_id)+'.m4a')"
   ]
  },
  {
   "cell_type": "code",
   "execution_count": 3,
   "metadata": {},
   "outputs": [],
   "source": [
    "#%%\n",
    "def update_progress(progress):\n",
    "    barLength = 30 # Modify this to change the length of the progress bar\n",
    "    status = \"\"\n",
    "    if isinstance(progress, int):\n",
    "        progress = float(progress)\n",
    "    if not isinstance(progress, float):\n",
    "        progress = 0\n",
    "        status = \"error: progress var must be float\\r\\n\"\n",
    "    if progress < 0:\n",
    "        progress = 0\n",
    "        status = \"Halt...\\r\\n\"\n",
    "    if progress >= 1:\n",
    "        progress = 1\n",
    "        status = \"Done...\\r\\n\"\n",
    "    block = int(round(barLength*progress))\n",
    "    text = \"\\rPercent: [{0}] {1}% {2}\".format( \"#\"*block + \"-\"*(barLength-block), progress*100, status)\n",
    "    sys.stdout.write(text)\n",
    "    sys.stdout.flush()"
   ]
  },
  {
   "cell_type": "code",
   "execution_count": null,
   "metadata": {},
   "outputs": [],
   "source": [
    "#%% This segment downloads the voice activity data!\n",
    "row_ids = np.arange(72137,137159);\n",
    "voice_table = 'syn5511444';\n",
    "columns = ['audio_audio.m4a','audio_countdown.m4a'];\n",
    "folder = ['\\\\Audio','\\\\Countdown'];\n",
    "\n",
    "for i in range(2):\n",
    "    for j in row_ids:\n",
    "        filepath = syn.downloadTableFile(voice_table, columns[i], downloadLocation=\\\n",
    "                             'E:\\LUMS\\Fall 2018\\mPower\\Data\\Voice Data' + folder[i],\\\n",
    "                             rowId=j, versionNumber=1, \\\n",
    "                             ifcollision='keep.both');\n",
    "        update_progress(((j+1)*(i+1))/(2*len(row_ids)));\n"
   ]
  },
  {
   "cell_type": "code",
   "execution_count": 4,
   "metadata": {},
   "outputs": [
    {
     "data": {
      "text/plain": [
       "\"\\nfor file_handle_id, path in file_map.items():\\nshutil.move(path,'E:\\\\LUMS\\\\Fall 2018\\\\mPower\\\\Data\\\\Voice Data' + folder[0] + '\\\\'+        str(file_handle_id)+'-'+path.split('\\\\')[-1][:-4]+'.m4a')\\n\""
      ]
     },
     "execution_count": 4,
     "metadata": {},
     "output_type": "execute_result"
    }
   ],
   "source": [
    "    '''\n",
    "for file_handle_id, path in file_map.items():\n",
    "    shutil.move(path,'E:\\\\LUMS\\\\Fall 2018\\\\mPower\\\\Data\\\\Voice Data' + folder[0] + '\\\\'+\\\n",
    "            str(file_handle_id)+'-'+path.split('\\\\')[-1][:-4]+'.m4a')\n",
    "    '''"
   ]
  },
  {
   "cell_type": "code",
   "execution_count": 5,
   "metadata": {},
   "outputs": [],
   "source": [
    "syn.logout()"
   ]
  },
  {
   "cell_type": "code",
   "execution_count": null,
   "metadata": {},
   "outputs": [],
   "source": []
  }
 ],
 "metadata": {
  "kernelspec": {
   "display_name": "Python 3",
   "language": "python",
   "name": "python3"
  },
  "language_info": {
   "codemirror_mode": {
    "name": "ipython",
    "version": 3
   },
   "file_extension": ".py",
   "mimetype": "text/x-python",
   "name": "python",
   "nbconvert_exporter": "python",
   "pygments_lexer": "ipython3",
   "version": "3.6.6"
  }
 },
 "nbformat": 4,
 "nbformat_minor": 2
}
