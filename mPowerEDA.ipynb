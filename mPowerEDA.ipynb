{
 "cells": [
  {
   "cell_type": "markdown",
   "metadata": {},
   "source": [
    "This Notebook is meant for the analysis of demographics survey data and extract the appropriate set of subjects from the mPower data."
   ]
  },
  {
   "cell_type": "code",
   "execution_count": 1,
   "metadata": {},
   "outputs": [
    {
     "ename": "ModuleNotFoundError",
     "evalue": "No module named 'pydub'",
     "output_type": "error",
     "traceback": [
      "\u001b[1;31m---------------------------------------------------------------------------\u001b[0m",
      "\u001b[1;31mModuleNotFoundError\u001b[0m                       Traceback (most recent call last)",
      "\u001b[1;32m<ipython-input-1-5b6b167c07b1>\u001b[0m in \u001b[0;36m<module>\u001b[1;34m()\u001b[0m\n\u001b[0;32m      3\u001b[0m \u001b[1;32mimport\u001b[0m \u001b[0mseaborn\u001b[0m \u001b[1;32mas\u001b[0m \u001b[0msns\u001b[0m\u001b[1;33m\u001b[0m\u001b[0m\n\u001b[0;32m      4\u001b[0m \u001b[1;32mfrom\u001b[0m \u001b[0mmatplotlib\u001b[0m \u001b[1;32mimport\u001b[0m \u001b[0mpyplot\u001b[0m \u001b[1;32mas\u001b[0m \u001b[0mplt\u001b[0m\u001b[1;33m\u001b[0m\u001b[0m\n\u001b[1;32m----> 5\u001b[1;33m \u001b[1;32mfrom\u001b[0m \u001b[0mpydub\u001b[0m \u001b[1;32mimport\u001b[0m \u001b[0mAudioSegment\u001b[0m\u001b[1;33m\u001b[0m\u001b[0m\n\u001b[0m\u001b[0;32m      6\u001b[0m \u001b[1;32mimport\u001b[0m \u001b[0mscipy\u001b[0m\u001b[1;33m.\u001b[0m\u001b[0msignal\u001b[0m \u001b[1;32mas\u001b[0m \u001b[0msg\u001b[0m\u001b[1;33m\u001b[0m\u001b[0m\n\u001b[0;32m      7\u001b[0m \u001b[1;32mimport\u001b[0m \u001b[0msys\u001b[0m\u001b[1;33m\u001b[0m\u001b[0m\n",
      "\u001b[1;31mModuleNotFoundError\u001b[0m: No module named 'pydub'"
     ]
    }
   ],
   "source": [
    "import pandas as pd\n",
    "import numpy as np\n",
    "import seaborn as sns\n",
    "from matplotlib import pyplot as plt\n",
    "from pydub import AudioSegment\n",
    "import scipy.signal as sg\n",
    "import sys"
   ]
  },
  {
   "cell_type": "code",
   "execution_count": 2,
   "metadata": {
    "collapsed": true
   },
   "outputs": [],
   "source": [
    "data = pd.read_csv('Demographics_Survey.csv');\n",
    "data = data.drop(columns = ['ROW_ID','ROW_VERSION','createdOn','appVersion','phoneInfo']);"
   ]
  },
  {
   "cell_type": "code",
   "execution_count": 3,
   "metadata": {},
   "outputs": [
    {
     "name": "stderr",
     "output_type": "stream",
     "text": [
      "C:\\Users\\eelab\\Anaconda3\\lib\\site-packages\\scipy\\stats\\stats.py:1713: FutureWarning: Using a non-tuple sequence for multidimensional indexing is deprecated; use `arr[tuple(seq)]` instead of `arr[seq]`. In the future this will be interpreted as an array index, `arr[np.array(seq)]`, which will result either in an error or a different result.\n",
      "  return np.add.reduce(sorted[indexer] * weights, axis=axis) / sumval\n"
     ]
    },
    {
     "data": {
      "image/png": "[encoded data removed]",
      "text/plain": [
       "<Figure size 720x360 with 1 Axes>"
      ]
     },
     "metadata": {
      "needs_background": "light"
     },
     "output_type": "display_data"
    }
   ],
   "source": [
    "#the feature that points to whether a person has Parkinson's or not is the professional diagnosis column. \n",
    "#since, smoking can effect the voice samples, I am excluding them from the dataset for the true distinction between Parkinson's \n",
    "#and healthy patients.\n",
    "#age is set to greater than 42 because clinically diagnosed samples are concentrated after 42.\n",
    "#lets ignore health history for now! \n",
    "plt.figure(figsize=(10,5))\n",
    "sns.distplot(data[data['professional-diagnosis'] == True].dropna().age,label='Parkinson age distribution');\n",
    "sns.distplot(data[data['professional-diagnosis'] == False].dropna().age,label='Healthy age distribution',bins=13);\n",
    "plt.legend();"
   ]
  },
  {
   "cell_type": "code",
   "execution_count": 4,
   "metadata": {},
   "outputs": [
    {
     "name": "stdout",
     "output_type": "stream",
     "text": [
      "Parkinson's Patient count: 717\n",
      "Healthy Patient count: 3443\n"
     ]
    }
   ],
   "source": [
    "demo_data = data.loc[(data['smoked'] == False)]; #& (data['age'] > 25)\n",
    "#UPDATE: I've removed the age restriction because for the current policy, the parkinson's people had recorded \n",
    "#abnormally high number of recordings!\n",
    "print('Parkinson\\'s Patient count:',len(demo_data[demo_data['professional-diagnosis'] == True]))\n",
    "print('Healthy Patient count:',len(demo_data[demo_data['professional-diagnosis'] == False]))\n",
    "#data['medication-start-year'].unique()\n",
    "#print(len(temp[temp['professional-diagnosis'] == False]))"
   ]
  },
  {
   "cell_type": "code",
   "execution_count": 5,
   "metadata": {
    "collapsed": true,
    "scrolled": true
   },
   "outputs": [],
   "source": [
    "voice_data = pd.read_csv('Voice Activity.csv')\n",
    "voice_data.drop(columns = ['ROW_ID','ROW_VERSION','appVersion','phoneInfo','createdOn'],inplace=True)\n",
    "voice_data = voice_data[voice_data['medTimepoint'] != 'Just after Parkinson medication (at your best)'];"
   ]
  },
  {
   "cell_type": "code",
   "execution_count": 6,
   "metadata": {},
   "outputs": [
    {
     "data": {
      "text/html": [
       "<div>\n",
       "<style scoped>\n",
       "    .dataframe tbody tr th:only-of-type {\n",
       "        vertical-align: middle;\n",
       "    }\n",
       "\n",
       "    .dataframe tbody tr th {\n",
       "        vertical-align: top;\n",
       "    }\n",
       "\n",
       "    .dataframe thead th {\n",
       "        text-align: right;\n",
       "    }\n",
       "</style>\n",
       "<table border=\"1\" class=\"dataframe\">\n",
       "  <thead>\n",
       "    <tr style=\"text-align: right;\">\n",
       "      <th></th>\n",
       "      <th>recordId</th>\n",
       "      <th>healthCode</th>\n",
       "      <th>audio_audio.m4a</th>\n",
       "      <th>audio_countdown.m4a</th>\n",
       "      <th>medTimepoint</th>\n",
       "    </tr>\n",
       "  </thead>\n",
       "  <tbody>\n",
       "    <tr>\n",
       "      <th>2</th>\n",
       "      <td>0e85415c-75ee-45d2-8d38-ac7b2c8c5c50</td>\n",
       "      <td>67bdd316-26fc-4fc7-8431-bf9f41a649dd</td>\n",
       "      <td>5390859</td>\n",
       "      <td>5390881</td>\n",
       "      <td>I don't take Parkinson medications</td>\n",
       "    </tr>\n",
       "    <tr>\n",
       "      <th>5</th>\n",
       "      <td>44639dde-a9c7-43af-b41a-9125507d088a</td>\n",
       "      <td>67bdd316-26fc-4fc7-8431-bf9f41a649dd</td>\n",
       "      <td>5390492</td>\n",
       "      <td>5390504</td>\n",
       "      <td>I don't take Parkinson medications</td>\n",
       "    </tr>\n",
       "    <tr>\n",
       "      <th>6</th>\n",
       "      <td>a1927252-6e3b-4505-9142-667f9ffbb57b</td>\n",
       "      <td>67bdd316-26fc-4fc7-8431-bf9f41a649dd</td>\n",
       "      <td>5400993</td>\n",
       "      <td>5401008</td>\n",
       "      <td>I don't take Parkinson medications</td>\n",
       "    </tr>\n",
       "  </tbody>\n",
       "</table>\n",
       "</div>"
      ],
      "text/plain": [
       "                               recordId                            healthCode  \\\n",
       "2  0e85415c-75ee-45d2-8d38-ac7b2c8c5c50  67bdd316-26fc-4fc7-8431-bf9f41a649dd   \n",
       "5  44639dde-a9c7-43af-b41a-9125507d088a  67bdd316-26fc-4fc7-8431-bf9f41a649dd   \n",
       "6  a1927252-6e3b-4505-9142-667f9ffbb57b  67bdd316-26fc-4fc7-8431-bf9f41a649dd   \n",
       "\n",
       "   audio_audio.m4a  audio_countdown.m4a                        medTimepoint  \n",
       "2          5390859              5390881  I don't take Parkinson medications  \n",
       "5          5390492              5390504  I don't take Parkinson medications  \n",
       "6          5400993              5401008  I don't take Parkinson medications  "
      ]
     },
     "execution_count": 6,
     "metadata": {},
     "output_type": "execute_result"
    }
   ],
   "source": [
    "voice_data[voice_data['healthCode'] == '67bdd316-26fc-4fc7-8431-bf9f41a649dd']"
   ]
  },
  {
   "cell_type": "code",
   "execution_count": 7,
   "metadata": {},
   "outputs": [
    {
     "name": "stdout",
     "output_type": "stream",
     "text": [
      "4237\n"
     ]
    }
   ],
   "source": [
    "#voice_data.set_index('healthCode').loc['67bdd316-26fc-4fc7-8431-bf9f41a649dd']\n",
    "#this block takes the intersection between people selected in demographics data and the people whose recordings we are using\n",
    "c1 = voice_data['healthCode'].unique().tolist();\n",
    "c2 = demo_data['healthCode'].unique().tolist();\n",
    "c3 = list(filter(lambda x: x in c1, c2))\n",
    "print(len(c2))"
   ]
  },
  {
   "cell_type": "code",
   "execution_count": 8,
   "metadata": {},
   "outputs": [
    {
     "data": {
      "text/html": [
       "<div>\n",
       "<style scoped>\n",
       "    .dataframe tbody tr th:only-of-type {\n",
       "        vertical-align: middle;\n",
       "    }\n",
       "\n",
       "    .dataframe tbody tr th {\n",
       "        vertical-align: top;\n",
       "    }\n",
       "\n",
       "    .dataframe thead th {\n",
       "        text-align: right;\n",
       "    }\n",
       "</style>\n",
       "<table border=\"1\" class=\"dataframe\">\n",
       "  <thead>\n",
       "    <tr style=\"text-align: right;\">\n",
       "      <th></th>\n",
       "      <th></th>\n",
       "      <th>audio_audio.m4a</th>\n",
       "      <th>audio_countdown.m4a</th>\n",
       "      <th>medTimepoint</th>\n",
       "    </tr>\n",
       "    <tr>\n",
       "      <th>healthCode</th>\n",
       "      <th>recordId</th>\n",
       "      <th></th>\n",
       "      <th></th>\n",
       "      <th></th>\n",
       "    </tr>\n",
       "  </thead>\n",
       "  <tbody>\n",
       "    <tr>\n",
       "      <th>000240d1-1110-4dd2-a2d0-e344c37efd68</th>\n",
       "      <th>ecd5c2ca-0029-411e-8eea-98b4e435f49c</th>\n",
       "      <td>5559342</td>\n",
       "      <td>5559429</td>\n",
       "      <td>I don't take Parkinson medications</td>\n",
       "    </tr>\n",
       "    <tr>\n",
       "      <th>00081bd9-9abd-4003-b035-de6cc3e8c922</th>\n",
       "      <th>f5f9fe7a-16ea-4729-ad36-4adf16d640d3</th>\n",
       "      <td>5911541</td>\n",
       "      <td>5911575</td>\n",
       "      <td>I don't take Parkinson medications</td>\n",
       "    </tr>\n",
       "    <tr>\n",
       "      <th>00290381-e82e-46b2-b4e6-df115823d71b</th>\n",
       "      <th>1cef82c9-11cd-4835-b071-bca252a04034</th>\n",
       "      <td>5399659</td>\n",
       "      <td>5399675</td>\n",
       "      <td>I don't take Parkinson medications</td>\n",
       "    </tr>\n",
       "    <tr>\n",
       "      <th rowspan=\"2\" valign=\"top\">00547584-0c04-4228-a5d5-c68f7d59f176</th>\n",
       "      <th>0a6cde8e-cf2c-4632-a526-93fe8541c4a2</th>\n",
       "      <td>5882110</td>\n",
       "      <td>5882147</td>\n",
       "      <td>I don't take Parkinson medications</td>\n",
       "    </tr>\n",
       "    <tr>\n",
       "      <th>468e3591-50ef-43e4-b95c-71700912b131</th>\n",
       "      <td>5796594</td>\n",
       "      <td>5796641</td>\n",
       "      <td>I don't take Parkinson medications</td>\n",
       "    </tr>\n",
       "  </tbody>\n",
       "</table>\n",
       "</div>"
      ],
      "text/plain": [
       "                                                                           audio_audio.m4a  \\\n",
       "healthCode                           recordId                                                \n",
       "000240d1-1110-4dd2-a2d0-e344c37efd68 ecd5c2ca-0029-411e-8eea-98b4e435f49c          5559342   \n",
       "00081bd9-9abd-4003-b035-de6cc3e8c922 f5f9fe7a-16ea-4729-ad36-4adf16d640d3          5911541   \n",
       "00290381-e82e-46b2-b4e6-df115823d71b 1cef82c9-11cd-4835-b071-bca252a04034          5399659   \n",
       "00547584-0c04-4228-a5d5-c68f7d59f176 0a6cde8e-cf2c-4632-a526-93fe8541c4a2          5882110   \n",
       "                                     468e3591-50ef-43e4-b95c-71700912b131          5796594   \n",
       "\n",
       "                                                                           audio_countdown.m4a  \\\n",
       "healthCode                           recordId                                                    \n",
       "000240d1-1110-4dd2-a2d0-e344c37efd68 ecd5c2ca-0029-411e-8eea-98b4e435f49c              5559429   \n",
       "00081bd9-9abd-4003-b035-de6cc3e8c922 f5f9fe7a-16ea-4729-ad36-4adf16d640d3              5911575   \n",
       "00290381-e82e-46b2-b4e6-df115823d71b 1cef82c9-11cd-4835-b071-bca252a04034              5399675   \n",
       "00547584-0c04-4228-a5d5-c68f7d59f176 0a6cde8e-cf2c-4632-a526-93fe8541c4a2              5882147   \n",
       "                                     468e3591-50ef-43e4-b95c-71700912b131              5796641   \n",
       "\n",
       "                                                                                                 medTimepoint  \n",
       "healthCode                           recordId                                                                  \n",
       "000240d1-1110-4dd2-a2d0-e344c37efd68 ecd5c2ca-0029-411e-8eea-98b4e435f49c  I don't take Parkinson medications  \n",
       "00081bd9-9abd-4003-b035-de6cc3e8c922 f5f9fe7a-16ea-4729-ad36-4adf16d640d3  I don't take Parkinson medications  \n",
       "00290381-e82e-46b2-b4e6-df115823d71b 1cef82c9-11cd-4835-b071-bca252a04034  I don't take Parkinson medications  \n",
       "00547584-0c04-4228-a5d5-c68f7d59f176 0a6cde8e-cf2c-4632-a526-93fe8541c4a2  I don't take Parkinson medications  \n",
       "                                     468e3591-50ef-43e4-b95c-71700912b131  I don't take Parkinson medications  "
      ]
     },
     "execution_count": 8,
     "metadata": {},
     "output_type": "execute_result"
    }
   ],
   "source": [
    "voice_data = voice_data.set_index(['healthCode','recordId']).sort_index();\n",
    "voice_data.head()"
   ]
  },
  {
   "cell_type": "code",
   "execution_count": 9,
   "metadata": {},
   "outputs": [
    {
     "data": {
      "text/html": [
       "<div>\n",
       "<style scoped>\n",
       "    .dataframe tbody tr th:only-of-type {\n",
       "        vertical-align: middle;\n",
       "    }\n",
       "\n",
       "    .dataframe tbody tr th {\n",
       "        vertical-align: top;\n",
       "    }\n",
       "\n",
       "    .dataframe thead th {\n",
       "        text-align: right;\n",
       "    }\n",
       "</style>\n",
       "<table border=\"1\" class=\"dataframe\">\n",
       "  <thead>\n",
       "    <tr style=\"text-align: right;\">\n",
       "      <th></th>\n",
       "      <th></th>\n",
       "      <th>audio_audio.m4a</th>\n",
       "      <th>audio_countdown.m4a</th>\n",
       "      <th>medTimepoint</th>\n",
       "    </tr>\n",
       "    <tr>\n",
       "      <th>healthCode</th>\n",
       "      <th>recordId</th>\n",
       "      <th></th>\n",
       "      <th></th>\n",
       "      <th></th>\n",
       "    </tr>\n",
       "  </thead>\n",
       "  <tbody>\n",
       "    <tr>\n",
       "      <th>00290381-e82e-46b2-b4e6-df115823d71b</th>\n",
       "      <th>1cef82c9-11cd-4835-b071-bca252a04034</th>\n",
       "      <td>5399659</td>\n",
       "      <td>5399675</td>\n",
       "      <td>I don't take Parkinson medications</td>\n",
       "    </tr>\n",
       "    <tr>\n",
       "      <th>00a78d55-a227-4944-b6e2-a8a8f9034f24</th>\n",
       "      <th>22cc4bed-d953-4493-b3bc-17d2c8ff1907</th>\n",
       "      <td>5515906</td>\n",
       "      <td>5515945</td>\n",
       "      <td>I don't take Parkinson medications</td>\n",
       "    </tr>\n",
       "    <tr>\n",
       "      <th rowspan=\"3\" valign=\"top\">00dc061b-8151-44cc-8eae-4d10f11a5ab6</th>\n",
       "      <th>006cd5f1-a549-4836-b9ea-49ffaf4ff1c5</th>\n",
       "      <td>5623237</td>\n",
       "      <td>5623384</td>\n",
       "      <td>Immediately before Parkinson medication</td>\n",
       "    </tr>\n",
       "    <tr>\n",
       "      <th>00774190-9fb8-4608-b56c-16d931e72ab1</th>\n",
       "      <td>5734951</td>\n",
       "      <td>5734995</td>\n",
       "      <td>Immediately before Parkinson medication</td>\n",
       "    </tr>\n",
       "    <tr>\n",
       "      <th>028841ce-533d-45d2-a07f-2b8451b8645c</th>\n",
       "      <td>5460625</td>\n",
       "      <td>5460718</td>\n",
       "      <td>Another time</td>\n",
       "    </tr>\n",
       "  </tbody>\n",
       "</table>\n",
       "</div>"
      ],
      "text/plain": [
       "                                                                           audio_audio.m4a  \\\n",
       "healthCode                           recordId                                                \n",
       "00290381-e82e-46b2-b4e6-df115823d71b 1cef82c9-11cd-4835-b071-bca252a04034          5399659   \n",
       "00a78d55-a227-4944-b6e2-a8a8f9034f24 22cc4bed-d953-4493-b3bc-17d2c8ff1907          5515906   \n",
       "00dc061b-8151-44cc-8eae-4d10f11a5ab6 006cd5f1-a549-4836-b9ea-49ffaf4ff1c5          5623237   \n",
       "                                     00774190-9fb8-4608-b56c-16d931e72ab1          5734951   \n",
       "                                     028841ce-533d-45d2-a07f-2b8451b8645c          5460625   \n",
       "\n",
       "                                                                           audio_countdown.m4a  \\\n",
       "healthCode                           recordId                                                    \n",
       "00290381-e82e-46b2-b4e6-df115823d71b 1cef82c9-11cd-4835-b071-bca252a04034              5399675   \n",
       "00a78d55-a227-4944-b6e2-a8a8f9034f24 22cc4bed-d953-4493-b3bc-17d2c8ff1907              5515945   \n",
       "00dc061b-8151-44cc-8eae-4d10f11a5ab6 006cd5f1-a549-4836-b9ea-49ffaf4ff1c5              5623384   \n",
       "                                     00774190-9fb8-4608-b56c-16d931e72ab1              5734995   \n",
       "                                     028841ce-533d-45d2-a07f-2b8451b8645c              5460718   \n",
       "\n",
       "                                                                                                      medTimepoint  \n",
       "healthCode                           recordId                                                                       \n",
       "00290381-e82e-46b2-b4e6-df115823d71b 1cef82c9-11cd-4835-b071-bca252a04034       I don't take Parkinson medications  \n",
       "00a78d55-a227-4944-b6e2-a8a8f9034f24 22cc4bed-d953-4493-b3bc-17d2c8ff1907       I don't take Parkinson medications  \n",
       "00dc061b-8151-44cc-8eae-4d10f11a5ab6 006cd5f1-a549-4836-b9ea-49ffaf4ff1c5  Immediately before Parkinson medication  \n",
       "                                     00774190-9fb8-4608-b56c-16d931e72ab1  Immediately before Parkinson medication  \n",
       "                                     028841ce-533d-45d2-a07f-2b8451b8645c                             Another time  "
      ]
     },
     "execution_count": 9,
     "metadata": {},
     "output_type": "execute_result"
    }
   ],
   "source": [
    "voice_data = voice_data.loc[c3,:]\n",
    "voice_data.head()\n",
    "#now, only these are the audio files that are necessary!"
   ]
  },
  {
   "cell_type": "code",
   "execution_count": 10,
   "metadata": {
    "collapsed": true
   },
   "outputs": [],
   "source": [
    "#constructing target series with respect to healthCode\n",
    "Y = demo_data.set_index('healthCode').loc[c3]['professional-diagnosis']"
   ]
  },
  {
   "cell_type": "code",
   "execution_count": 11,
   "metadata": {},
   "outputs": [
    {
     "name": "stdout",
     "output_type": "stream",
     "text": [
      "Total 35378 patients\n"
     ]
    },
    {
     "data": {
      "text/html": [
       "<div>\n",
       "<style scoped>\n",
       "    .dataframe tbody tr th:only-of-type {\n",
       "        vertical-align: middle;\n",
       "    }\n",
       "\n",
       "    .dataframe tbody tr th {\n",
       "        vertical-align: top;\n",
       "    }\n",
       "\n",
       "    .dataframe thead th {\n",
       "        text-align: right;\n",
       "    }\n",
       "</style>\n",
       "<table border=\"1\" class=\"dataframe\">\n",
       "  <thead>\n",
       "    <tr style=\"text-align: right;\">\n",
       "      <th></th>\n",
       "      <th>audio_audio.m4a</th>\n",
       "      <th>audio_countdown.m4a</th>\n",
       "      <th>medTimepoint</th>\n",
       "    </tr>\n",
       "    <tr>\n",
       "      <th>healthCode</th>\n",
       "      <th></th>\n",
       "      <th></th>\n",
       "      <th></th>\n",
       "    </tr>\n",
       "  </thead>\n",
       "  <tbody>\n",
       "    <tr>\n",
       "      <th>00290381-e82e-46b2-b4e6-df115823d71b</th>\n",
       "      <td>5399659</td>\n",
       "      <td>5399675</td>\n",
       "      <td>I don't take Parkinson medications</td>\n",
       "    </tr>\n",
       "    <tr>\n",
       "      <th>00a78d55-a227-4944-b6e2-a8a8f9034f24</th>\n",
       "      <td>5515906</td>\n",
       "      <td>5515945</td>\n",
       "      <td>I don't take Parkinson medications</td>\n",
       "    </tr>\n",
       "    <tr>\n",
       "      <th>00dc061b-8151-44cc-8eae-4d10f11a5ab6</th>\n",
       "      <td>5623237</td>\n",
       "      <td>5623384</td>\n",
       "      <td>Immediately before Parkinson medication</td>\n",
       "    </tr>\n",
       "    <tr>\n",
       "      <th>00dc061b-8151-44cc-8eae-4d10f11a5ab6</th>\n",
       "      <td>5734951</td>\n",
       "      <td>5734995</td>\n",
       "      <td>Immediately before Parkinson medication</td>\n",
       "    </tr>\n",
       "    <tr>\n",
       "      <th>00dc061b-8151-44cc-8eae-4d10f11a5ab6</th>\n",
       "      <td>5460625</td>\n",
       "      <td>5460718</td>\n",
       "      <td>Another time</td>\n",
       "    </tr>\n",
       "  </tbody>\n",
       "</table>\n",
       "</div>"
      ],
      "text/plain": [
       "                                      audio_audio.m4a  audio_countdown.m4a  \\\n",
       "healthCode                                                                   \n",
       "00290381-e82e-46b2-b4e6-df115823d71b          5399659              5399675   \n",
       "00a78d55-a227-4944-b6e2-a8a8f9034f24          5515906              5515945   \n",
       "00dc061b-8151-44cc-8eae-4d10f11a5ab6          5623237              5623384   \n",
       "00dc061b-8151-44cc-8eae-4d10f11a5ab6          5734951              5734995   \n",
       "00dc061b-8151-44cc-8eae-4d10f11a5ab6          5460625              5460718   \n",
       "\n",
       "                                                                 medTimepoint  \n",
       "healthCode                                                                     \n",
       "00290381-e82e-46b2-b4e6-df115823d71b       I don't take Parkinson medications  \n",
       "00a78d55-a227-4944-b6e2-a8a8f9034f24       I don't take Parkinson medications  \n",
       "00dc061b-8151-44cc-8eae-4d10f11a5ab6  Immediately before Parkinson medication  \n",
       "00dc061b-8151-44cc-8eae-4d10f11a5ab6  Immediately before Parkinson medication  \n",
       "00dc061b-8151-44cc-8eae-4d10f11a5ab6                             Another time  "
      ]
     },
     "execution_count": 11,
     "metadata": {},
     "output_type": "execute_result"
    }
   ],
   "source": [
    "#len(voice_data)\n",
    "#so, so far Y contains the target variables with respoect to healthCode\n",
    "#and voice_data contains all the healthCode audio_file codes and recordIds (which contain the repitition of activity by\n",
    "#the same person)\n",
    "voice_data.index = voice_data.index.droplevel(1)\n",
    "print('Total',len(voice_data),'patients');\n",
    "voice_data.head()\n",
    "#this command deletes the record Ids and awards duplicate healthcode indices to multiple recordings by the same patient"
   ]
  },
  {
   "cell_type": "code",
   "execution_count": 12,
   "metadata": {
    "collapsed": true
   },
   "outputs": [],
   "source": [
    "Ytemp = Y[voice_data.index.values];\n",
    "nullind = np.where(np.asanyarray(np.isnan(Ytemp.values.astype(float))))[0].tolist()\n",
    "voice_data = voice_data.reset_index().drop(nullind).set_index('healthCode');\n",
    "#this block drops the values where we have nan as parkinson professional diagnosis value"
   ]
  },
  {
   "cell_type": "code",
   "execution_count": 14,
   "metadata": {
    "collapsed": true
   },
   "outputs": [],
   "source": [
    "def update_progress(progress):\n",
    "    barLength = 30 # Modify this to change the length of the progress bar\n",
    "    status = \"\"\n",
    "    if isinstance(progress, int):\n",
    "        progress = float(progress)\n",
    "    if not isinstance(progress, float):\n",
    "        progress = 0\n",
    "        status = \"error: progress var must be float\\r\\n\"\n",
    "    if progress < 0:\n",
    "        progress = 0\n",
    "        status = \"Halt...\\r\\n\"\n",
    "    if progress >= 1:\n",
    "        progress = 1\n",
    "        status = \"Done...\\r\\n\"\n",
    "    block = int(round(barLength*progress))\n",
    "    text = \"\\rPercent: [{0}] {1}% {2}\".format( \"#\"*block + \"-\"*(barLength-block), progress*100, status)\n",
    "    sys.stdout.write(text)\n",
    "    sys.stdout.flush()"
   ]
  },
  {
   "cell_type": "code",
   "execution_count": 15,
   "metadata": {},
   "outputs": [
    {
     "name": "stdout",
     "output_type": "stream",
     "text": [
      "Percent: [------------------------------] 0.005687958591661452% "
     ]
    },
    {
     "name": "stderr",
     "output_type": "stream",
     "text": [
      "C:\\Users\\eelab\\Anaconda3\\lib\\site-packages\\scipy\\signal\\_arraytools.py:45: FutureWarning: Using a non-tuple sequence for multidimensional indexing is deprecated; use `arr[tuple(seq)]` instead of `arr[seq]`. In the future this will be interpreted as an array index, `arr[np.array(seq)]`, which will result either in an error or a different result.\n",
      "  b = a[a_slice]\n",
      "C:\\Users\\eelab\\Anaconda3\\lib\\site-packages\\scipy\\signal\\signaltools.py:3463: FutureWarning: Using a non-tuple sequence for multidimensional indexing is deprecated; use `arr[tuple(seq)]` instead of `arr[seq]`. In the future this will be interpreted as an array index, `arr[np.array(seq)]`, which will result either in an error or a different result.\n",
      "  return y[sl]\n"
     ]
    },
    {
     "name": "stdout",
     "output_type": "stream",
     "text": [
      "Percent: [####################----------] 66.97855639610944%    "
     ]
    },
    {
     "name": "stderr",
     "output_type": "stream",
     "text": [
      "C:\\Users\\eelab\\Anaconda3\\lib\\site-packages\\ipykernel_launcher.py:14: RuntimeWarning: invalid value encountered in true_divide\n",
      "  \n"
     ]
    },
    {
     "name": "stdout",
     "output_type": "stream",
     "text": [
      "Percent: [##############################] 100% Done...70417% \n"
     ]
    }
   ],
   "source": [
    "pad = lambda a,i : a[0:i] if len(a) > i else np.concatenate((a, [0] * (i-len(a)))) #for fixing things to a fixed length\n",
    "sample_len = 44100; #sample Fs is 44100. After 10x decimation, a 10-sec recording should have 44.1k Samples\n",
    "err_samples = [];\n",
    "j = True;\n",
    "k = 0;\n",
    "parts = 500;\n",
    "#X = np.array((sample_len));\n",
    "#lets start extracting samples!\n",
    "\n",
    "for i in range(len(voice_data)):\n",
    "    path = 'D:\\\\Projects\\\\Parkinson Diagnosis\\\\mPower\\\\Voice Data\\\\Audio\\\\'+str(voice_data['audio_audio.m4a'].iloc[i]) + '.m4a';\n",
    "    try:\n",
    "        audio = np.array(AudioSegment.from_file(path).get_array_of_samples().tolist());\n",
    "        audio = audio/audio.max() #Normalize the PCM waveform\n",
    "        deci = sg.decimate(x=audio,q=10) #lets decimate\n",
    "        deci = pad(deci,sample_len); #lets fix the sample length! so that we have no problems in concatenation!\n",
    "        #plt.plot(np.abs(np.fft.fftshift(np.fft.fft(deci)))) #If you want to visualize the fft of the thing!\n",
    "        if(j is True): \n",
    "            X = deci;\n",
    "            X = np.expand_dims(X,axis=0);\n",
    "            j = False;\n",
    "        else: X = np.vstack((X,deci))\n",
    "        \n",
    "        if(X.shape[0] % parts == 0):\n",
    "            np.save('X_sec'+str(k)+'.npy',X)\n",
    "            k = k + 1;\n",
    "            j = True;\n",
    "    except:\n",
    "        err_samples.append(i);\n",
    "    update_progress((i+1)/len(voice_data));\n",
    "np.save('X_sec'+str(k)+'.npy',X)"
   ]
  },
  {
   "cell_type": "code",
   "execution_count": 16,
   "metadata": {},
   "outputs": [
    {
     "data": {
      "text/html": [
       "<div>\n",
       "<style scoped>\n",
       "    .dataframe tbody tr th:only-of-type {\n",
       "        vertical-align: middle;\n",
       "    }\n",
       "\n",
       "    .dataframe tbody tr th {\n",
       "        vertical-align: top;\n",
       "    }\n",
       "\n",
       "    .dataframe thead th {\n",
       "        text-align: right;\n",
       "    }\n",
       "</style>\n",
       "<table border=\"1\" class=\"dataframe\">\n",
       "  <thead>\n",
       "    <tr style=\"text-align: right;\">\n",
       "      <th></th>\n",
       "      <th>audio_audio.m4a</th>\n",
       "      <th>audio_countdown.m4a</th>\n",
       "      <th>medTimepoint</th>\n",
       "    </tr>\n",
       "    <tr>\n",
       "      <th>healthCode</th>\n",
       "      <th></th>\n",
       "      <th></th>\n",
       "      <th></th>\n",
       "    </tr>\n",
       "  </thead>\n",
       "  <tbody>\n",
       "    <tr>\n",
       "      <th>00290381-e82e-46b2-b4e6-df115823d71b</th>\n",
       "      <td>5399659</td>\n",
       "      <td>5399675</td>\n",
       "      <td>I don't take Parkinson medications</td>\n",
       "    </tr>\n",
       "    <tr>\n",
       "      <th>00a78d55-a227-4944-b6e2-a8a8f9034f24</th>\n",
       "      <td>5515906</td>\n",
       "      <td>5515945</td>\n",
       "      <td>I don't take Parkinson medications</td>\n",
       "    </tr>\n",
       "    <tr>\n",
       "      <th>00dc061b-8151-44cc-8eae-4d10f11a5ab6</th>\n",
       "      <td>5623237</td>\n",
       "      <td>5623384</td>\n",
       "      <td>Immediately before Parkinson medication</td>\n",
       "    </tr>\n",
       "    <tr>\n",
       "      <th>00dc061b-8151-44cc-8eae-4d10f11a5ab6</th>\n",
       "      <td>5734951</td>\n",
       "      <td>5734995</td>\n",
       "      <td>Immediately before Parkinson medication</td>\n",
       "    </tr>\n",
       "    <tr>\n",
       "      <th>00dc061b-8151-44cc-8eae-4d10f11a5ab6</th>\n",
       "      <td>5460625</td>\n",
       "      <td>5460718</td>\n",
       "      <td>Another time</td>\n",
       "    </tr>\n",
       "  </tbody>\n",
       "</table>\n",
       "</div>"
      ],
      "text/plain": [
       "                                      audio_audio.m4a  audio_countdown.m4a  \\\n",
       "healthCode                                                                   \n",
       "00290381-e82e-46b2-b4e6-df115823d71b          5399659              5399675   \n",
       "00a78d55-a227-4944-b6e2-a8a8f9034f24          5515906              5515945   \n",
       "00dc061b-8151-44cc-8eae-4d10f11a5ab6          5623237              5623384   \n",
       "00dc061b-8151-44cc-8eae-4d10f11a5ab6          5734951              5734995   \n",
       "00dc061b-8151-44cc-8eae-4d10f11a5ab6          5460625              5460718   \n",
       "\n",
       "                                                                 medTimepoint  \n",
       "healthCode                                                                     \n",
       "00290381-e82e-46b2-b4e6-df115823d71b       I don't take Parkinson medications  \n",
       "00a78d55-a227-4944-b6e2-a8a8f9034f24       I don't take Parkinson medications  \n",
       "00dc061b-8151-44cc-8eae-4d10f11a5ab6  Immediately before Parkinson medication  \n",
       "00dc061b-8151-44cc-8eae-4d10f11a5ab6  Immediately before Parkinson medication  \n",
       "00dc061b-8151-44cc-8eae-4d10f11a5ab6                             Another time  "
      ]
     },
     "execution_count": 16,
     "metadata": {},
     "output_type": "execute_result"
    }
   ],
   "source": [
    "voice_data = voice_data.reset_index().drop(err_samples).set_index('healthCode');\n",
    "voice_data.head()"
   ]
  },
  {
   "cell_type": "code",
   "execution_count": 17,
   "metadata": {},
   "outputs": [
    {
     "data": {
      "text/plain": [
       "35131"
      ]
     },
     "execution_count": 17,
     "metadata": {},
     "output_type": "execute_result"
    }
   ],
   "source": [
    "len(voice_data)"
   ]
  },
  {
   "cell_type": "code",
   "execution_count": 18,
   "metadata": {},
   "outputs": [
    {
     "name": "stdout",
     "output_type": "stream",
     "text": [
      "(35131,)\n"
     ]
    },
    {
     "data": {
      "text/plain": [
       "healthCode\n",
       "00290381-e82e-46b2-b4e6-df115823d71b    False\n",
       "00a78d55-a227-4944-b6e2-a8a8f9034f24    False\n",
       "00dc061b-8151-44cc-8eae-4d10f11a5ab6     True\n",
       "00dc061b-8151-44cc-8eae-4d10f11a5ab6     True\n",
       "00dc061b-8151-44cc-8eae-4d10f11a5ab6     True\n",
       "Name: professional-diagnosis, dtype: object"
      ]
     },
     "execution_count": 18,
     "metadata": {},
     "output_type": "execute_result"
    }
   ],
   "source": [
    "Y = Y[voice_data.index.values];\n",
    "##Now, Y is a series with indications of which recording is Parkinson's or not\n",
    "#(Y==True).sum()/(Y == False).sum()\n",
    "print(Y.shape)\n",
    "Y.head()"
   ]
  },
  {
   "cell_type": "code",
   "execution_count": 21,
   "metadata": {},
   "outputs": [
    {
     "data": {
      "text/plain": [
       "14881"
      ]
     },
     "execution_count": 21,
     "metadata": {},
     "output_type": "execute_result"
    }
   ],
   "source": [
    "#Y.index[Y.apply(np.isnan)]\n",
    "\n",
    "#Y.values.astype(float)\n",
    "#35347 -((Y==True).sum() + (Y == False).sum())\n",
    "#np.save('Y.npy',Y)\n",
    "(Y==False).sum()"
   ]
  },
  {
   "cell_type": "code",
   "execution_count": null,
   "metadata": {
    "collapsed": true
   },
   "outputs": [],
   "source": []
  }
 ],
 "metadata": {
  "kernelspec": {
   "display_name": "Python 3",
   "language": "python",
   "name": "python3"
  },
  "language_info": {
   "codemirror_mode": {
    "name": "ipython",
    "version": 3
   },
   "file_extension": ".py",
   "mimetype": "text/x-python",
   "name": "python",
   "nbconvert_exporter": "python",
   "pygments_lexer": "ipython3",
   "version": "3.6.5"
  }
 },
 "nbformat": 4,
 "nbformat_minor": 2
}
